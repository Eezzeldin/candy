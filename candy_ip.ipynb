{
  "nbformat": 4,
  "nbformat_minor": 0,
  "metadata": {
    "colab": {
      "provenance": [],
      "authorship_tag": "ABX9TyOa0XWi2VlxW33kw5uAc3BN",
      "include_colab_link": true
    },
    "kernelspec": {
      "name": "python3",
      "display_name": "Python 3"
    },
    "language_info": {
      "name": "python"
    }
  },
  "cells": [
    {
      "cell_type": "markdown",
      "metadata": {
        "id": "view-in-github",
        "colab_type": "text"
      },
      "source": [
        "<a href=\"https://colab.research.google.com/github/Eezzeldin/candy/blob/main/candy_ip.ipynb\" target=\"_parent\"><img src=\"https://colab.research.google.com/assets/colab-badge.svg\" alt=\"Open In Colab\"/></a>"
      ]
    },
    {
      "cell_type": "code",
      "execution_count": 1,
      "metadata": {
        "colab": {
          "base_uri": "https://localhost:8080/"
        },
        "id": "WZngasxxDmE-",
        "outputId": "024d8d0e-f100-4947-aded-ace19ec0256a"
      },
      "outputs": [
        {
          "output_type": "execute_result",
          "data": {
            "text/plain": [
              "(              Feature Pair  Phi Coefficients  Supports  Confidences     Lifts  \\\n",
              " 0  ('chocolate', 'fruity')          0.718155  0.253068     0.011365  0.035294   \n",
              " 1     ('chocolate', 'bar')          0.569653  0.269339     0.235400  0.176471   \n",
              " 2      ('bar', 'pluribus')          0.564159  0.247066     0.000000  0.000000   \n",
              " 3        ('fruity', 'bar')          0.486452  0.243994     0.000000  0.000000   \n",
              " 4        ('nougat', 'bar')          0.463281  0.408796     0.082306  0.117647   \n",
              " \n",
              "    CI Width Phi Coefficients  CI Width Supports  CI Width Confidences  \\\n",
              " 0                   0.026206           0.083333              0.057861   \n",
              " 1                   0.541570           0.312895              2.221498   \n",
              " 2                   0.000000           0.000000              0.000000   \n",
              " 3                   0.000000           0.000000              0.000000   \n",
              " 4                   1.000000           0.000000              4.204203   \n",
              " \n",
              "    CI Width Lifts  Clusters         0         1  pred  \n",
              " 0        0.176724         0  0.951460  0.048540     0  \n",
              " 1        1.059462         1  0.076706  0.923294     1  \n",
              " 2        0.000000         0  0.951460  0.048540     0  \n",
              " 3        0.000000         0  0.951460  0.048540     0  \n",
              " 4        3.607427         1  0.943511  0.056489     0  ,\n",
              "          Unnamed: 0  percentwin_ate  perccentprice_ate  percentsugar_ate\n",
              " 0         chocolate       18.712478           0.281077          0.054015\n",
              " 1            fruity       -2.956356          -0.165029         -0.065401\n",
              " 2           caramel        3.205517           0.169726          0.145644\n",
              " 3            nougat       11.828607          -0.031817          0.212515\n",
              " 4  crispedricewafer       15.294365           0.338327         -0.021290)"
            ]
          },
          "metadata": {},
          "execution_count": 1
        }
      ],
      "source": [
        "import pandas as pd\n",
        "\n",
        "# Load the datasets\n",
        "final_df = pd.read_csv('/content/final_df.csv')\n",
        "control_variables_ate_df = pd.read_csv('/content/control_variables_ate_df.csv')\n",
        "\n",
        "# Display the first few rows of each dataframe\n",
        "final_df.head(), control_variables_ate_df.head()\n"
      ]
    },
    {
      "cell_type": "code",
      "source": [
        "# Replacing 'rare' with 'peanutyalmondy' in the 'Unnamed: 0' column\n",
        "control_variables_ate_df['Unnamed: 0'] = control_variables_ate_df['Unnamed: 0'].replace('rare', 'peanutyalmondy')\n",
        "\n",
        "# Display the updated DataFrame to confirm the change\n",
        "control_variables_ate_df.head()\n"
      ],
      "metadata": {
        "colab": {
          "base_uri": "https://localhost:8080/",
          "height": 206
        },
        "id": "uvhBT0rhD2EV",
        "outputId": "df8b301d-86a1-45aa-885f-fafcd2de0ecc"
      },
      "execution_count": 2,
      "outputs": [
        {
          "output_type": "execute_result",
          "data": {
            "text/plain": [
              "         Unnamed: 0  percentwin_ate  perccentprice_ate  percentsugar_ate\n",
              "0         chocolate       18.712478           0.281077          0.054015\n",
              "1            fruity       -2.956356          -0.165029         -0.065401\n",
              "2           caramel        3.205517           0.169726          0.145644\n",
              "3            nougat       11.828607          -0.031817          0.212515\n",
              "4  crispedricewafer       15.294365           0.338327         -0.021290"
            ],
            "text/html": [
              "\n",
              "  <div id=\"df-724a70f2-623f-4a37-bc91-b26f2a5a026a\" class=\"colab-df-container\">\n",
              "    <div>\n",
              "<style scoped>\n",
              "    .dataframe tbody tr th:only-of-type {\n",
              "        vertical-align: middle;\n",
              "    }\n",
              "\n",
              "    .dataframe tbody tr th {\n",
              "        vertical-align: top;\n",
              "    }\n",
              "\n",
              "    .dataframe thead th {\n",
              "        text-align: right;\n",
              "    }\n",
              "</style>\n",
              "<table border=\"1\" class=\"dataframe\">\n",
              "  <thead>\n",
              "    <tr style=\"text-align: right;\">\n",
              "      <th></th>\n",
              "      <th>Unnamed: 0</th>\n",
              "      <th>percentwin_ate</th>\n",
              "      <th>perccentprice_ate</th>\n",
              "      <th>percentsugar_ate</th>\n",
              "    </tr>\n",
              "  </thead>\n",
              "  <tbody>\n",
              "    <tr>\n",
              "      <th>0</th>\n",
              "      <td>chocolate</td>\n",
              "      <td>18.712478</td>\n",
              "      <td>0.281077</td>\n",
              "      <td>0.054015</td>\n",
              "    </tr>\n",
              "    <tr>\n",
              "      <th>1</th>\n",
              "      <td>fruity</td>\n",
              "      <td>-2.956356</td>\n",
              "      <td>-0.165029</td>\n",
              "      <td>-0.065401</td>\n",
              "    </tr>\n",
              "    <tr>\n",
              "      <th>2</th>\n",
              "      <td>caramel</td>\n",
              "      <td>3.205517</td>\n",
              "      <td>0.169726</td>\n",
              "      <td>0.145644</td>\n",
              "    </tr>\n",
              "    <tr>\n",
              "      <th>3</th>\n",
              "      <td>nougat</td>\n",
              "      <td>11.828607</td>\n",
              "      <td>-0.031817</td>\n",
              "      <td>0.212515</td>\n",
              "    </tr>\n",
              "    <tr>\n",
              "      <th>4</th>\n",
              "      <td>crispedricewafer</td>\n",
              "      <td>15.294365</td>\n",
              "      <td>0.338327</td>\n",
              "      <td>-0.021290</td>\n",
              "    </tr>\n",
              "  </tbody>\n",
              "</table>\n",
              "</div>\n",
              "    <div class=\"colab-df-buttons\">\n",
              "\n",
              "  <div class=\"colab-df-container\">\n",
              "    <button class=\"colab-df-convert\" onclick=\"convertToInteractive('df-724a70f2-623f-4a37-bc91-b26f2a5a026a')\"\n",
              "            title=\"Convert this dataframe to an interactive table.\"\n",
              "            style=\"display:none;\">\n",
              "\n",
              "  <svg xmlns=\"http://www.w3.org/2000/svg\" height=\"24px\" viewBox=\"0 -960 960 960\">\n",
              "    <path d=\"M120-120v-720h720v720H120Zm60-500h600v-160H180v160Zm220 220h160v-160H400v160Zm0 220h160v-160H400v160ZM180-400h160v-160H180v160Zm440 0h160v-160H620v160ZM180-180h160v-160H180v160Zm440 0h160v-160H620v160Z\"/>\n",
              "  </svg>\n",
              "    </button>\n",
              "\n",
              "  <style>\n",
              "    .colab-df-container {\n",
              "      display:flex;\n",
              "      gap: 12px;\n",
              "    }\n",
              "\n",
              "    .colab-df-convert {\n",
              "      background-color: #E8F0FE;\n",
              "      border: none;\n",
              "      border-radius: 50%;\n",
              "      cursor: pointer;\n",
              "      display: none;\n",
              "      fill: #1967D2;\n",
              "      height: 32px;\n",
              "      padding: 0 0 0 0;\n",
              "      width: 32px;\n",
              "    }\n",
              "\n",
              "    .colab-df-convert:hover {\n",
              "      background-color: #E2EBFA;\n",
              "      box-shadow: 0px 1px 2px rgba(60, 64, 67, 0.3), 0px 1px 3px 1px rgba(60, 64, 67, 0.15);\n",
              "      fill: #174EA6;\n",
              "    }\n",
              "\n",
              "    .colab-df-buttons div {\n",
              "      margin-bottom: 4px;\n",
              "    }\n",
              "\n",
              "    [theme=dark] .colab-df-convert {\n",
              "      background-color: #3B4455;\n",
              "      fill: #D2E3FC;\n",
              "    }\n",
              "\n",
              "    [theme=dark] .colab-df-convert:hover {\n",
              "      background-color: #434B5C;\n",
              "      box-shadow: 0px 1px 3px 1px rgba(0, 0, 0, 0.15);\n",
              "      filter: drop-shadow(0px 1px 2px rgba(0, 0, 0, 0.3));\n",
              "      fill: #FFFFFF;\n",
              "    }\n",
              "  </style>\n",
              "\n",
              "    <script>\n",
              "      const buttonEl =\n",
              "        document.querySelector('#df-724a70f2-623f-4a37-bc91-b26f2a5a026a button.colab-df-convert');\n",
              "      buttonEl.style.display =\n",
              "        google.colab.kernel.accessAllowed ? 'block' : 'none';\n",
              "\n",
              "      async function convertToInteractive(key) {\n",
              "        const element = document.querySelector('#df-724a70f2-623f-4a37-bc91-b26f2a5a026a');\n",
              "        const dataTable =\n",
              "          await google.colab.kernel.invokeFunction('convertToInteractive',\n",
              "                                                    [key], {});\n",
              "        if (!dataTable) return;\n",
              "\n",
              "        const docLinkHtml = 'Like what you see? Visit the ' +\n",
              "          '<a target=\"_blank\" href=https://colab.research.google.com/notebooks/data_table.ipynb>data table notebook</a>'\n",
              "          + ' to learn more about interactive tables.';\n",
              "        element.innerHTML = '';\n",
              "        dataTable['output_type'] = 'display_data';\n",
              "        await google.colab.output.renderOutput(dataTable, element);\n",
              "        const docLink = document.createElement('div');\n",
              "        docLink.innerHTML = docLinkHtml;\n",
              "        element.appendChild(docLink);\n",
              "      }\n",
              "    </script>\n",
              "  </div>\n",
              "\n",
              "\n",
              "<div id=\"df-985b2c5b-0a20-4d71-b19b-6452a58efaa4\">\n",
              "  <button class=\"colab-df-quickchart\" onclick=\"quickchart('df-985b2c5b-0a20-4d71-b19b-6452a58efaa4')\"\n",
              "            title=\"Suggest charts\"\n",
              "            style=\"display:none;\">\n",
              "\n",
              "<svg xmlns=\"http://www.w3.org/2000/svg\" height=\"24px\"viewBox=\"0 0 24 24\"\n",
              "     width=\"24px\">\n",
              "    <g>\n",
              "        <path d=\"M19 3H5c-1.1 0-2 .9-2 2v14c0 1.1.9 2 2 2h14c1.1 0 2-.9 2-2V5c0-1.1-.9-2-2-2zM9 17H7v-7h2v7zm4 0h-2V7h2v10zm4 0h-2v-4h2v4z\"/>\n",
              "    </g>\n",
              "</svg>\n",
              "  </button>\n",
              "\n",
              "<style>\n",
              "  .colab-df-quickchart {\n",
              "      --bg-color: #E8F0FE;\n",
              "      --fill-color: #1967D2;\n",
              "      --hover-bg-color: #E2EBFA;\n",
              "      --hover-fill-color: #174EA6;\n",
              "      --disabled-fill-color: #AAA;\n",
              "      --disabled-bg-color: #DDD;\n",
              "  }\n",
              "\n",
              "  [theme=dark] .colab-df-quickchart {\n",
              "      --bg-color: #3B4455;\n",
              "      --fill-color: #D2E3FC;\n",
              "      --hover-bg-color: #434B5C;\n",
              "      --hover-fill-color: #FFFFFF;\n",
              "      --disabled-bg-color: #3B4455;\n",
              "      --disabled-fill-color: #666;\n",
              "  }\n",
              "\n",
              "  .colab-df-quickchart {\n",
              "    background-color: var(--bg-color);\n",
              "    border: none;\n",
              "    border-radius: 50%;\n",
              "    cursor: pointer;\n",
              "    display: none;\n",
              "    fill: var(--fill-color);\n",
              "    height: 32px;\n",
              "    padding: 0;\n",
              "    width: 32px;\n",
              "  }\n",
              "\n",
              "  .colab-df-quickchart:hover {\n",
              "    background-color: var(--hover-bg-color);\n",
              "    box-shadow: 0 1px 2px rgba(60, 64, 67, 0.3), 0 1px 3px 1px rgba(60, 64, 67, 0.15);\n",
              "    fill: var(--button-hover-fill-color);\n",
              "  }\n",
              "\n",
              "  .colab-df-quickchart-complete:disabled,\n",
              "  .colab-df-quickchart-complete:disabled:hover {\n",
              "    background-color: var(--disabled-bg-color);\n",
              "    fill: var(--disabled-fill-color);\n",
              "    box-shadow: none;\n",
              "  }\n",
              "\n",
              "  .colab-df-spinner {\n",
              "    border: 2px solid var(--fill-color);\n",
              "    border-color: transparent;\n",
              "    border-bottom-color: var(--fill-color);\n",
              "    animation:\n",
              "      spin 1s steps(1) infinite;\n",
              "  }\n",
              "\n",
              "  @keyframes spin {\n",
              "    0% {\n",
              "      border-color: transparent;\n",
              "      border-bottom-color: var(--fill-color);\n",
              "      border-left-color: var(--fill-color);\n",
              "    }\n",
              "    20% {\n",
              "      border-color: transparent;\n",
              "      border-left-color: var(--fill-color);\n",
              "      border-top-color: var(--fill-color);\n",
              "    }\n",
              "    30% {\n",
              "      border-color: transparent;\n",
              "      border-left-color: var(--fill-color);\n",
              "      border-top-color: var(--fill-color);\n",
              "      border-right-color: var(--fill-color);\n",
              "    }\n",
              "    40% {\n",
              "      border-color: transparent;\n",
              "      border-right-color: var(--fill-color);\n",
              "      border-top-color: var(--fill-color);\n",
              "    }\n",
              "    60% {\n",
              "      border-color: transparent;\n",
              "      border-right-color: var(--fill-color);\n",
              "    }\n",
              "    80% {\n",
              "      border-color: transparent;\n",
              "      border-right-color: var(--fill-color);\n",
              "      border-bottom-color: var(--fill-color);\n",
              "    }\n",
              "    90% {\n",
              "      border-color: transparent;\n",
              "      border-bottom-color: var(--fill-color);\n",
              "    }\n",
              "  }\n",
              "</style>\n",
              "\n",
              "  <script>\n",
              "    async function quickchart(key) {\n",
              "      const quickchartButtonEl =\n",
              "        document.querySelector('#' + key + ' button');\n",
              "      quickchartButtonEl.disabled = true;  // To prevent multiple clicks.\n",
              "      quickchartButtonEl.classList.add('colab-df-spinner');\n",
              "      try {\n",
              "        const charts = await google.colab.kernel.invokeFunction(\n",
              "            'suggestCharts', [key], {});\n",
              "      } catch (error) {\n",
              "        console.error('Error during call to suggestCharts:', error);\n",
              "      }\n",
              "      quickchartButtonEl.classList.remove('colab-df-spinner');\n",
              "      quickchartButtonEl.classList.add('colab-df-quickchart-complete');\n",
              "    }\n",
              "    (() => {\n",
              "      let quickchartButtonEl =\n",
              "        document.querySelector('#df-985b2c5b-0a20-4d71-b19b-6452a58efaa4 button');\n",
              "      quickchartButtonEl.style.display =\n",
              "        google.colab.kernel.accessAllowed ? 'block' : 'none';\n",
              "    })();\n",
              "  </script>\n",
              "</div>\n",
              "\n",
              "    </div>\n",
              "  </div>\n"
            ],
            "application/vnd.google.colaboratory.intrinsic+json": {
              "type": "dataframe",
              "variable_name": "control_variables_ate_df",
              "summary": "{\n  \"name\": \"control_variables_ate_df\",\n  \"rows\": 9,\n  \"fields\": [\n    {\n      \"column\": \"Unnamed: 0\",\n      \"properties\": {\n        \"dtype\": \"string\",\n        \"num_unique_values\": 9,\n        \"samples\": [\n          \"pluribus\",\n          \"fruity\",\n          \"hard\"\n        ],\n        \"semantic_type\": \"\",\n        \"description\": \"\"\n      }\n    },\n    {\n      \"column\": \"percentwin_ate\",\n      \"properties\": {\n        \"dtype\": \"number\",\n        \"std\": 10.54899120646528,\n        \"min\": -9.9356421142723,\n        \"max\": 22.07499554979935,\n        \"num_unique_values\": 9,\n        \"samples\": [\n          1.4997517306958492,\n          -2.9563559373419923,\n          -9.9356421142723\n        ],\n        \"semantic_type\": \"\",\n        \"description\": \"\"\n      }\n    },\n    {\n      \"column\": \"perccentprice_ate\",\n      \"properties\": {\n        \"dtype\": \"number\",\n        \"std\": 0.2041758689115261,\n        \"min\": -0.1650286389511214,\n        \"max\": 0.3715538142877757,\n        \"num_unique_values\": 9,\n        \"samples\": [\n          -0.013372335531673,\n          -0.1650286389511214,\n          -0.1329647997858664\n        ],\n        \"semantic_type\": \"\",\n        \"description\": \"\"\n      }\n    },\n    {\n      \"column\": \"percentsugar_ate\",\n      \"properties\": {\n        \"dtype\": \"number\",\n        \"std\": 0.09485521540848522,\n        \"min\": -0.0654008829785883,\n        \"max\": 0.212514585564558,\n        \"num_unique_values\": 9,\n        \"samples\": [\n          0.090740964433535,\n          -0.0654008829785883,\n          0.0675462978024239\n        ],\n        \"semantic_type\": \"\",\n        \"description\": \"\"\n      }\n    }\n  ]\n}"
            }
          },
          "metadata": {},
          "execution_count": 2
        }
      ]
    },
    {
      "cell_type": "code",
      "source": [
        "from scipy.optimize import linprog\n",
        "\n",
        "# Extracting the variables from the DataFrame\n",
        "variables = control_variables_ate_df['Unnamed: 0']\n",
        "percentwin = control_variables_ate_df['percentwin_ate'].to_numpy()\n",
        "percentprice = control_variables_ate_df['perccentprice_ate'].to_numpy()\n",
        "percentsugar = control_variables_ate_df['percentsugar_ate'].to_numpy()\n",
        "\n",
        "# Objective function: We want to maximize percentwin, but linprog does minimization,\n",
        "# so we use the negative of percentwin to convert it to a maximization problem.\n",
        "c = -percentwin\n",
        "\n",
        "# Constraints: Adding the constraints for percentprice and percentsugar\n",
        "A = [percentprice, percentsugar]\n",
        "b = [0.5, 0.5]\n",
        "\n",
        "# Bounds for each variable, indicating all are binary (either 0 or 1)\n",
        "x_bounds = [(0, 1) for _ in variables]\n",
        "\n",
        "# Solve the linear programming problem\n",
        "res = linprog(c, A_ub=A, b_ub=b, bounds=x_bounds, method='highs', options={'disp': False})\n",
        "\n",
        "# Parse and display the results\n",
        "selected_variables = [variables[i] for i in range(len(variables)) if res.x[i] > 0.5]\n",
        "selected_variables, res.fun\n"
      ],
      "metadata": {
        "colab": {
          "base_uri": "https://localhost:8080/"
        },
        "id": "0JYyhn9SEAEN",
        "outputId": "2a63a11e-b80b-43cd-a6ff-3819851cb1dc"
      },
      "execution_count": 3,
      "outputs": [
        {
          "output_type": "execute_result",
          "data": {
            "text/plain": [
              "(['chocolate',\n",
              "  'fruity',\n",
              "  'nougat',\n",
              "  'crispedricewafer',\n",
              "  'pluribus',\n",
              "  'peanutyalmondy'],\n",
              " -61.00157248924873)"
            ]
          },
          "metadata": {},
          "execution_count": 3
        }
      ]
    },
    {
      "cell_type": "code",
      "source": [
        "# Extracting the names of the selected candies and their proportions\n",
        "selected_candies     = control_variables_ate_df['Unnamed: 0'][res.x > 0].tolist()\n",
        "selected_proportions = res.x[res.x > 0].tolist()\n",
        "\n",
        "selected_candies, selected_proportions\n"
      ],
      "metadata": {
        "colab": {
          "base_uri": "https://localhost:8080/"
        },
        "id": "s-SUdtv9EK_h",
        "outputId": "78f80d84-aab4-4198-9a27-1e44fae6cf67"
      },
      "execution_count": 7,
      "outputs": [
        {
          "output_type": "execute_result",
          "data": {
            "text/plain": [
              "(['chocolate',\n",
              "  'fruity',\n",
              "  'nougat',\n",
              "  'crispedricewafer',\n",
              "  'pluribus',\n",
              "  'peanutyalmondy'],\n",
              " [1.0, 1.0, 1.0, 0.6435112696386143, 1.0, 1.0])"
            ]
          },
          "metadata": {},
          "execution_count": 7
        }
      ]
    },
    {
      "cell_type": "code",
      "source": [
        "#!pip install pulp"
      ],
      "metadata": {
        "colab": {
          "base_uri": "https://localhost:8080/"
        },
        "id": "6KvIfEZZEoz4",
        "outputId": "4eed554d-c2e1-48cf-a05e-a1bdb5720071"
      },
      "execution_count": 8,
      "outputs": [
        {
          "output_type": "stream",
          "name": "stdout",
          "text": [
            "Collecting pulp\n",
            "  Downloading PuLP-2.8.0-py3-none-any.whl (17.7 MB)\n",
            "\u001b[2K     \u001b[90m━━━━━━━━━━━━━━━━━━━━━━━━━━━━━━━━━━━━━━━━\u001b[0m \u001b[32m17.7/17.7 MB\u001b[0m \u001b[31m24.2 MB/s\u001b[0m eta \u001b[36m0:00:00\u001b[0m\n",
            "\u001b[?25hInstalling collected packages: pulp\n",
            "Successfully installed pulp-2.8.0\n"
          ]
        }
      ]
    },
    {
      "cell_type": "code",
      "source": [
        "# Extract associated feature pairs from Cluster 1\n",
        "associated_pairs = final_df[final_df['Clusters'] == 1]['Feature Pair'].apply(eval).tolist()\n",
        "\n",
        "# Create a mapping from feature to associated features based on the associated pairs\n",
        "feature_associations = {}\n",
        "for pair in associated_pairs:\n",
        "    for feature in pair:\n",
        "        if feature not in feature_associations:\n",
        "            feature_associations[feature] = set()\n",
        "        feature_associations[feature].add(pair[0])\n",
        "        feature_associations[feature].add(pair[1])\n",
        "associated_pairs"
      ],
      "metadata": {
        "colab": {
          "base_uri": "https://localhost:8080/"
        },
        "id": "qNk8O2eWFBAh",
        "outputId": "39da9856-a7de-4687-9eb3-a47332599139"
      },
      "execution_count": 11,
      "outputs": [
        {
          "output_type": "execute_result",
          "data": {
            "text/plain": [
              "[('chocolate', 'bar'),\n",
              " ('nougat', 'bar'),\n",
              " ('crispedricewafer', 'bar'),\n",
              " ('fruity', 'hard'),\n",
              " ('chocolate', 'peanutyalmondy'),\n",
              " ('chocolate', 'pluribus'),\n",
              " ('caramel', 'bar'),\n",
              " ('fruity', 'pluribus'),\n",
              " ('caramel', 'nougat'),\n",
              " ('caramel', 'pluribus'),\n",
              " ('peanutyalmondy', 'bar'),\n",
              " ('chocolate', 'caramel'),\n",
              " ('crispedricewafer', 'pluribus'),\n",
              " ('peanutyalmondy', 'pluribus'),\n",
              " ('caramel', 'crispedricewafer'),\n",
              " ('peanutyalmondy', 'nougat'),\n",
              " ('caramel', 'peanutyalmondy'),\n",
              " ('hard', 'pluribus')]"
            ]
          },
          "metadata": {},
          "execution_count": 11
        }
      ]
    },
    {
      "cell_type": "code",
      "source": [
        "import pulp\n",
        "\n",
        "# Assuming control_variables_ate_df and feature_associations are defined as before\n",
        "\n",
        "# Create the LP problem\n",
        "prob = pulp.LpProblem(\"MaximizePercentWinWithAssociations\", pulp.LpMaximize)\n",
        "\n",
        "# Define a very large number M\n",
        "M = 1000\n",
        "\n",
        "# Decision variables for features\n",
        "feature_vars = pulp.LpVariable.dicts(\"Feature\", control_variables_ate_df['Unnamed: 0'], cat='Binary')\n",
        "\n",
        "# Objective: Maximize percentwin_ate\n",
        "prob += pulp.lpSum([percentwin[i] * feature_vars[feature] for i, feature in enumerate(control_variables_ate_df['Unnamed: 0'])])\n",
        "\n",
        "# Constraints: Keep perccentprice_ate and percentsugar_ate under 0.5\n",
        "prob += pulp.lpSum([percentprice[i] * feature_vars[feature] for i, feature in enumerate(control_variables_ate_df['Unnamed: 0'])]) <= 1\n",
        "#prob += pulp.lpSum([percentsugar[i] * feature_vars[feature] for i, feature in enumerate(control_variables_ate_df['Unnamed: 0'])]) <= 1\n",
        "\n",
        "# Association constraints using the Large M method\n",
        "for feature, associates in feature_associations.items():\n",
        "    for associate in associates:\n",
        "        if feature != associate:  # Ensure we don't create a constraint for a feature with itself\n",
        "            # If feature is selected (1), then associate must also be selected (1),\n",
        "            # else if feature is not selected (0), no restriction on associate (handled by the large M).\n",
        "            prob += feature_vars[associate] >= feature_vars[feature] - M * (1 - feature_vars[feature]), f\"Assoc_{feature}_{associate}\"\n",
        "\n",
        "# Solve the problem\n",
        "prob.solve()\n",
        "\n",
        "# Output the selected features\n",
        "selected_features = [feature for feature in control_variables_ate_df['Unnamed: 0'] if feature_vars[feature].value() == 1]\n",
        "print(\"Selected Features:\", selected_features)\n"
      ],
      "metadata": {
        "colab": {
          "base_uri": "https://localhost:8080/"
        },
        "id": "3eJ79wduEw5o",
        "outputId": "014f0574-d1c6-4d04-85c0-4ad04a52e48b"
      },
      "execution_count": 15,
      "outputs": [
        {
          "output_type": "stream",
          "name": "stdout",
          "text": [
            "Selected Features: []\n"
          ]
        }
      ]
    },
    {
      "cell_type": "code",
      "source": [
        "unassociated_pairs = final_df[final_df['Clusters'] == 0]['Feature Pair'].apply(eval).tolist()\n"
      ],
      "metadata": {
        "id": "aAY_coeQGpIH"
      },
      "execution_count": 17,
      "outputs": []
    },
    {
      "cell_type": "code",
      "source": [
        "import pulp\n",
        "\n",
        "# Assuming control_variables_ate_df, percentwin, percentprice, and percentsugar are defined as before\n",
        "# Assuming unassociated_pairs is a list of tuples representing unassociated feature pairs\n",
        "\n",
        "# Create the LP problem\n",
        "prob = pulp.LpProblem(\"MaximizePercentWinWithExclusions\", pulp.LpMaximize)\n",
        "\n",
        "# Define a very large number M\n",
        "M = 1000\n",
        "\n",
        "# Decision variables for features\n",
        "feature_vars = pulp.LpVariable.dicts(\"Feature\", control_variables_ate_df['Unnamed: 0'], cat='Binary')\n",
        "\n",
        "# Objective: Maximize percentwin_ate\n",
        "prob += pulp.lpSum([percentwin[i] * feature_vars[feature] for i, feature in enumerate(control_variables_ate_df['Unnamed: 0'])])\n",
        "\n",
        "# Constraints: Keep perccentprice_ate and percentsugar_ate under 0.5\n",
        "prob += pulp.lpSum([percentprice[i] * feature_vars[feature] for i, feature in enumerate(control_variables_ate_df['Unnamed: 0'])]) <= 0.5\n",
        "prob += pulp.lpSum([percentsugar[i] * feature_vars[feature] for i, feature in enumerate(control_variables_ate_df['Unnamed: 0'])]) <= 0.5\n",
        "\n",
        "# Unassociation constraints using the Large M method\n",
        "for (feature_a, feature_b) in unassociated_pairs:\n",
        "    if feature_a in feature_vars and feature_b in feature_vars:\n",
        "        # If feature_a is selected, feature_b cannot be selected, and vice versa\n",
        "        prob += feature_vars[feature_a] + feature_vars[feature_b] <= 1, f\"Exclusion_{feature_a}_{feature_b}\"\n",
        "\n",
        "# Solve the problem\n",
        "prob.solve()\n",
        "\n",
        "# Output the selected features\n",
        "selected_features = [feature for feature in control_variables_ate_df['Unnamed: 0'] if feature_vars[feature].value() == 1]\n",
        "print(\"Selected Features:\", selected_features)\n"
      ],
      "metadata": {
        "colab": {
          "base_uri": "https://localhost:8080/"
        },
        "id": "8J9NxJ4WGkom",
        "outputId": "8c2e5a27-8ffc-4669-abc0-4aedee5cdf40"
      },
      "execution_count": 18,
      "outputs": [
        {
          "output_type": "stream",
          "name": "stdout",
          "text": [
            "Selected Features: ['chocolate', 'pluribus', 'peanutyalmondy']\n"
          ]
        }
      ]
    },
    {
      "cell_type": "code",
      "source": [
        "# Assuming `selected_features` contains the names of the features that were selected by the optimization\n",
        "# And assuming `control_variables_ate_df` contains the 'Unnamed: 0' column with feature names and 'percentwin_ate' with their corresponding values\n",
        "\n",
        "# Calculate the maximum percentwin_ate for the selected features\n",
        "max_percentwin_ate = sum(control_variables_ate_df[control_variables_ate_df['Unnamed: 0'].isin(selected_features)]['percentwin_ate'])\n",
        "\n",
        "print(\"Maximum percentwin_ate:\", max_percentwin_ate)\n"
      ],
      "metadata": {
        "colab": {
          "base_uri": "https://localhost:8080/"
        },
        "id": "2GJDyez-G3aV",
        "outputId": "8d4d8e13-e0f8-481e-8939-140c7c365cd2"
      },
      "execution_count": 19,
      "outputs": [
        {
          "output_type": "stream",
          "name": "stdout",
          "text": [
            "Maximum percentwin_ate: 42.28722527703786\n"
          ]
        }
      ]
    },
    {
      "cell_type": "code",
      "source": [
        "# Calculate the total perccentprice_ate for the selected features\n",
        "total_perccentprice_ate = sum(control_variables_ate_df[control_variables_ate_df['Unnamed: 0'].isin(selected_features)]['perccentprice_ate'])\n",
        "\n",
        "# Calculate the total percentsugar_ate for the selected features\n",
        "total_percentsugar_ate = sum(control_variables_ate_df[control_variables_ate_df['Unnamed: 0'].isin(selected_features)]['percentsugar_ate'])\n",
        "\n",
        "print(\"Total perccentprice_ate:\", total_perccentprice_ate)\n",
        "print(\"Total percentsugar_ate:\", total_percentsugar_ate)\n"
      ],
      "metadata": {
        "colab": {
          "base_uri": "https://localhost:8080/"
        },
        "id": "qMZi1CbEHbAG",
        "outputId": "804c14a2-882f-4e53-cf77-cea9c8f73730"
      },
      "execution_count": 20,
      "outputs": [
        {
          "output_type": "stream",
          "name": "stdout",
          "text": [
            "Total perccentprice_ate: 0.4791284430716149\n",
            "Total percentsugar_ate: 0.3265442567210482\n"
          ]
        }
      ]
    }
  ]
}